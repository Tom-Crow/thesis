{
 "cells": [
  {
   "cell_type": "code",
   "execution_count": 2,
   "metadata": {},
   "outputs": [],
   "source": [
    "import pandas as pd\n",
    "import numpy as np\n",
    "from scipy.stats import uniform\n",
    "\n",
    "import matplotlib as mpl\n",
    "from matplotlib import pyplot as plt"
   ]
  },
  {
   "cell_type": "code",
   "execution_count": 3,
   "metadata": {},
   "outputs": [],
   "source": [
    "mpl.rcParams[\"figure.figsize\"] = (15,8)\n",
    "plt.style.use(\"bmh\")"
   ]
  },
  {
   "cell_type": "code",
   "execution_count": 4,
   "metadata": {},
   "outputs": [],
   "source": [
    "def round_to(x, rounding_val):\n",
    "    return np.round(x / rounding_val) * rounding_val"
   ]
  },
  {
   "cell_type": "markdown",
   "metadata": {},
   "source": [
    "# Uniform(0, $\\theta$)"
   ]
  },
  {
   "cell_type": "code",
   "execution_count": 60,
   "metadata": {},
   "outputs": [],
   "source": [
    "def get_bin_counts(sample):\n",
    "    bin_counts = pd.DataFrame(sample['bin_j'].value_counts()).sort_index()\n",
    "    bin_df = (\n",
    "        pd.DataFrame(\n",
    "            data={'bin_j': np.nan},\n",
    "            index=list(range(0, bin_counts.index.max() + 1))\n",
    "        )\n",
    "        .fillna(bin_counts)\n",
    "        .fillna(0)\n",
    "        .assign(bin_count= lambda df: df.bin_j.astype(\"int32\"))\n",
    "        [['bin_count']]\n",
    "    )\n",
    "    bin_df.index.name = 'bin_j'\n",
    "    return bin_df\n",
    "\n",
    "def generate_unif_samples_with_bins(sample_size, theta, bin_size):\n",
    "    unif = uniform(scale=theta)\n",
    "    sample = pd.DataFrame(unif.rvs(sample_size), columns=['x'])\n",
    "    sample['bin_j'] = sample['x'].apply(lambda x: int(np.floor(x/bin_size)))\n",
    "    return sample\n",
    "\n",
    "def unif_log_likeli(theta, samples):\n",
    "    return 1/theta**len(samples) * np.float(samples['x'].max() < theta)\n",
    "\n",
    "def naive_binned_mle_est(bin_counts, bin_size):\n",
    "    return (bin_counts.index.max() + min(1,\n",
    "        bin_counts.query('index == index.max()').bin_count.mean()\n",
    "        / bin_counts.query('index < index.max()').bin_count.mean()\n",
    "    )) * bin_size"
   ]
  },
  {
   "cell_type": "code",
   "execution_count": 61,
   "metadata": {},
   "outputs": [
    {
     "data": {
      "text/html": [
       "<div>\n",
       "<style scoped>\n",
       "    .dataframe tbody tr th:only-of-type {\n",
       "        vertical-align: middle;\n",
       "    }\n",
       "\n",
       "    .dataframe tbody tr th {\n",
       "        vertical-align: top;\n",
       "    }\n",
       "\n",
       "    .dataframe thead th {\n",
       "        text-align: right;\n",
       "    }\n",
       "</style>\n",
       "<table border=\"1\" class=\"dataframe\">\n",
       "  <thead>\n",
       "    <tr style=\"text-align: right;\">\n",
       "      <th></th>\n",
       "      <th>x</th>\n",
       "      <th>bin_j</th>\n",
       "    </tr>\n",
       "  </thead>\n",
       "  <tbody>\n",
       "    <tr>\n",
       "      <th>0</th>\n",
       "      <td>1.026750</td>\n",
       "      <td>1</td>\n",
       "    </tr>\n",
       "    <tr>\n",
       "      <th>1</th>\n",
       "      <td>2.305688</td>\n",
       "      <td>2</td>\n",
       "    </tr>\n",
       "    <tr>\n",
       "      <th>2</th>\n",
       "      <td>0.103681</td>\n",
       "      <td>0</td>\n",
       "    </tr>\n",
       "    <tr>\n",
       "      <th>3</th>\n",
       "      <td>2.492763</td>\n",
       "      <td>2</td>\n",
       "    </tr>\n",
       "    <tr>\n",
       "      <th>4</th>\n",
       "      <td>1.849993</td>\n",
       "      <td>1</td>\n",
       "    </tr>\n",
       "  </tbody>\n",
       "</table>\n",
       "</div>"
      ],
      "text/plain": [
       "          x  bin_j\n",
       "0  1.026750      1\n",
       "1  2.305688      2\n",
       "2  0.103681      0\n",
       "3  2.492763      2\n",
       "4  1.849993      1"
      ]
     },
     "metadata": {},
     "output_type": "display_data"
    },
    {
     "data": {
      "text/html": [
       "<div>\n",
       "<style scoped>\n",
       "    .dataframe tbody tr th:only-of-type {\n",
       "        vertical-align: middle;\n",
       "    }\n",
       "\n",
       "    .dataframe tbody tr th {\n",
       "        vertical-align: top;\n",
       "    }\n",
       "\n",
       "    .dataframe thead th {\n",
       "        text-align: right;\n",
       "    }\n",
       "</style>\n",
       "<table border=\"1\" class=\"dataframe\">\n",
       "  <thead>\n",
       "    <tr style=\"text-align: right;\">\n",
       "      <th></th>\n",
       "      <th>bin_count</th>\n",
       "    </tr>\n",
       "    <tr>\n",
       "      <th>bin_j</th>\n",
       "      <th></th>\n",
       "    </tr>\n",
       "  </thead>\n",
       "  <tbody>\n",
       "    <tr>\n",
       "      <th>0</th>\n",
       "      <td>29</td>\n",
       "    </tr>\n",
       "    <tr>\n",
       "      <th>1</th>\n",
       "      <td>38</td>\n",
       "    </tr>\n",
       "    <tr>\n",
       "      <th>2</th>\n",
       "      <td>29</td>\n",
       "    </tr>\n",
       "    <tr>\n",
       "      <th>3</th>\n",
       "      <td>4</td>\n",
       "    </tr>\n",
       "  </tbody>\n",
       "</table>\n",
       "</div>"
      ],
      "text/plain": [
       "       bin_count\n",
       "bin_j           \n",
       "0             29\n",
       "1             38\n",
       "2             29\n",
       "3              4"
      ]
     },
     "metadata": {},
     "output_type": "display_data"
    },
    {
     "data": {
      "text/plain": [
       "3.125"
      ]
     },
     "execution_count": 61,
     "metadata": {},
     "output_type": "execute_result"
    }
   ],
   "source": [
    "sample_size = 100\n",
    "theta = 3.1\n",
    "bin_size = 1\n",
    "\n",
    "unif = uniform(scale=theta)\n",
    "samples = generate_unif_samples_with_bins(sample_size, theta, bin_size)\n",
    "bin_counts = get_bin_counts(samples)\n",
    "display(samples.head())\n",
    "display(bin_counts)\n",
    "naive_binned_mle_est(bin_counts, bin_size)"
   ]
  },
  {
   "cell_type": "code",
   "execution_count": 103,
   "metadata": {},
   "outputs": [],
   "source": [
    "sample_size = 500\n",
    "theta = 3.1\n",
    "bin_size = 0.5\n",
    "\n",
    "naive_binned_mles = []\n",
    "mles = []\n",
    "\n",
    "for i in range(1000):\n",
    "    samples = generate_unif_samples_with_bins(sample_size, theta, bin_size)\n",
    "    bin_counts = get_bin_counts(samples)\n",
    "    naive_binned_mles.append(naive_binned_mle_est(bin_counts, bin_size))\n",
    "    mles.append(samples['x'].max())"
   ]
  },
  {
   "cell_type": "code",
   "execution_count": 104,
   "metadata": {},
   "outputs": [],
   "source": [
    "bin_errors = theta - np.array(naive_binned_mles)\n",
    "mle_errors = theta - np.array(mles)"
   ]
  },
  {
   "cell_type": "code",
   "execution_count": 108,
   "metadata": {},
   "outputs": [
    {
     "data": {
      "image/png": "[encoded data removed]",
      "text/plain": [
       "<Figure size 1080x576 with 1 Axes>"
      ]
     },
     "metadata": {
      "needs_background": "light"
     },
     "output_type": "display_data"
    }
   ],
   "source": [
    "plt.figure()\n",
    "plt.hist(bin_errors, alpha=0.5, label='Binned Errors', bins=15)\n",
    "plt.hist(mle_errors, alpha=0.5, label='MLE Errors')\n",
    "plt.legend()\n",
    "plt.show()"
   ]
  },
  {
   "cell_type": "code",
   "execution_count": 106,
   "metadata": {},
   "outputs": [
    {
     "data": {
      "text/plain": [
       "-0.0007335264584077148"
      ]
     },
     "execution_count": 106,
     "metadata": {},
     "output_type": "execute_result"
    }
   ],
   "source": [
    "np.mean(bin_errors)"
   ]
  },
  {
   "cell_type": "code",
   "execution_count": 107,
   "metadata": {},
   "outputs": [
    {
     "data": {
      "text/plain": [
       "0.0060047659292758754"
      ]
     },
     "execution_count": 107,
     "metadata": {},
     "output_type": "execute_result"
    }
   ],
   "source": [
    "np.mean(mle_errors)"
   ]
  }
 ],
 "metadata": {
  "kernelspec": {
   "display_name": "Python 3",
   "language": "python",
   "name": "python3"
  },
  "language_info": {
   "codemirror_mode": {
    "name": "ipython",
    "version": 3
   },
   "file_extension": ".py",
   "mimetype": "text/x-python",
   "name": "python",
   "nbconvert_exporter": "python",
   "pygments_lexer": "ipython3",
   "version": "3.7.5"
  }
 },
 "nbformat": 4,
 "nbformat_minor": 4
}
